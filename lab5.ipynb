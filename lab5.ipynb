{
 "cells": [
  {
   "cell_type": "markdown",
   "id": "80551c27-9404-4129-a2cd-723a406507b5",
   "metadata": {},
   "source": [
    "1 exercise"
   ]
  },
  {
   "cell_type": "code",
   "execution_count": 4,
   "id": "f55fcadb-b79d-4366-a5e1-922eec55d671",
   "metadata": {},
   "outputs": [
    {
     "name": "stdout",
     "output_type": "stream",
     "text": [
      "['ab', 'abbb', 'ab']\n"
     ]
    }
   ],
   "source": [
    "import re\n",
    "txt = \"ababbb bc abc\"\n",
    "x = re.findall(\"ab*\", txt)\n",
    "print(x)"
   ]
  },
  {
   "cell_type": "markdown",
   "id": "e41b6b00-4e52-44cc-8abb-7a071ece3701",
   "metadata": {},
   "source": [
    "2 exercise"
   ]
  },
  {
   "cell_type": "code",
   "execution_count": 11,
   "id": "ec2f9b1c-0e2d-43bf-9559-b8fb6771e3d8",
   "metadata": {},
   "outputs": [
    {
     "name": "stdout",
     "output_type": "stream",
     "text": [
      "['abbb', 'abbb']\n"
     ]
    }
   ],
   "source": [
    "import re\n",
    "txt = \"abbbc, abb, abbb, baaab\"\n",
    "x = findall(r\"ab{3,4}\", txt)\n",
    "if(x):\n",
    "    print(x)"
   ]
  },
  {
   "cell_type": "markdown",
   "id": "75ddcb89-a6bd-4129-8d95-d4922f4fd393",
   "metadata": {},
   "source": [
    "3 exercise"
   ]
  },
  {
   "cell_type": "code",
   "execution_count": 16,
   "id": "8225e055-f174-4ee6-bc92-3f0131b13629",
   "metadata": {},
   "outputs": [
    {
     "name": "stdout",
     "output_type": "stream",
     "text": [
      "['a_b', 'hello_world', 'ello_world']\n"
     ]
    }
   ],
   "source": [
    "import re\n",
    "txt = \"a_b hello_world Hello_world hello_World\"\n",
    "x = findall(r\"[a-z]+_[a-z]+\", txt)\n",
    "if(x):\n",
    "    print(x)"
   ]
  },
  {
   "cell_type": "markdown",
   "id": "1c950452-6f3d-4488-a026-96c62851f2c8",
   "metadata": {},
   "source": [
    "4 exercise"
   ]
  },
  {
   "cell_type": "code",
   "execution_count": 19,
   "id": "9e35ca0c-f22f-43d9-b0e4-e9de6d1370a8",
   "metadata": {},
   "outputs": [
    {
     "name": "stdout",
     "output_type": "stream",
     "text": [
      "['Ppp', 'Worl', 'Hello']\n"
     ]
    }
   ],
   "source": [
    "import re\n",
    "txt = \"Ppp WorlD world Hello\"\n",
    "x = findall(r\"[A-Z][a-z]+\", txt)\n",
    "if(x):\n",
    "    print(x)"
   ]
  },
  {
   "cell_type": "markdown",
   "id": "62ef5d3a-ddb5-4751-8709-ecd242f8572a",
   "metadata": {},
   "source": [
    "5 exercise"
   ]
  },
  {
   "cell_type": "code",
   "execution_count": 22,
   "id": "b8034669-963b-481f-b61a-1b48eb6e1174",
   "metadata": {},
   "outputs": [
    {
     "name": "stdout",
     "output_type": "stream",
     "text": [
      "['ajjjb', 'ab', 'a ands ahdb']\n"
     ]
    }
   ],
   "source": [
    "import re\n",
    "txt = \"ajjjbn abb mmmbba ands ahdb\"\n",
    "x = findall(r\"a.*?b\", txt)\n",
    "if(x):\n",
    "    print(x)"
   ]
  },
  {
   "cell_type": "markdown",
   "id": "d63e4d75-772a-471c-93e4-f22b8f944b2e",
   "metadata": {},
   "source": [
    "6 exercise"
   ]
  },
  {
   "cell_type": "code",
   "execution_count": 59,
   "id": "f352a99c-185d-49fc-acf3-05edae02acad",
   "metadata": {},
   "outputs": [
    {
     "name": "stdout",
     "output_type": "stream",
     "text": [
      "This:is::just:a:regular:string\n"
     ]
    }
   ],
   "source": [
    "import re\n",
    "txt = \"This,is, just a.regular.string\"\n",
    "x = sub(r\"[\\s.,]\", ':', txt)\n",
    "if(x):\n",
    "    print(x)"
   ]
  },
  {
   "cell_type": "markdown",
   "id": "1737953f-d78b-4890-a2c9-aa3591328b0d",
   "metadata": {},
   "source": [
    "7 exercise"
   ]
  },
  {
   "cell_type": "code",
   "execution_count": 57,
   "id": "f93e48d4-c1b4-429f-b243-bb59f6e22fc2",
   "metadata": {},
   "outputs": [
    {
     "name": "stdout",
     "output_type": "stream",
     "text": [
      "helloWorld helloAll\n"
     ]
    }
   ],
   "source": [
    "import re\n",
    "txt = \"hello_world hello_all\"\n",
    "x = sub(r'_([a-z])', lambda m: m.group(1).upper(), txt)\n",
    "if(x):\n",
    "    print(x)"
   ]
  },
  {
   "cell_type": "markdown",
   "id": "3b5b34f9-c1d6-4467-b158-d85208fde080",
   "metadata": {},
   "source": [
    "8 exercise"
   ]
  },
  {
   "cell_type": "code",
   "execution_count": 53,
   "id": "bc66030f-ad65-49bc-9300-106c752c9d8c",
   "metadata": {},
   "outputs": [
    {
     "name": "stdout",
     "output_type": "stream",
     "text": [
      "['', 'Hi ', 'This ', 'Is ', 'A ', 'Regular ', 'String']\n"
     ]
    }
   ],
   "source": [
    "import re\n",
    "txt = \"Hi This Is A Regular String\"\n",
    "x = split(r\"(?=[A-Z])\", txt)\n",
    "if(x):\n",
    "    print(x)"
   ]
  },
  {
   "cell_type": "markdown",
   "id": "9800fbd4-d35f-465b-ac24-89d9d57c546c",
   "metadata": {},
   "source": [
    "9 exercise"
   ]
  },
  {
   "cell_type": "code",
   "execution_count": 51,
   "id": "c2a78225-c4af-4d26-b692-8289f3207a34",
   "metadata": {},
   "outputs": [
    {
     "name": "stdout",
     "output_type": "stream",
     "text": [
      " Hi My Name Is Altair\n"
     ]
    }
   ],
   "source": [
    "import re\n",
    "text = \"HiMyNameIsAltair\"\n",
    "result = re.sub(r'(?=[A-Z])', ' ', text)\n",
    "print(result)"
   ]
  },
  {
   "cell_type": "markdown",
   "id": "8f5a875b-ead1-466b-9255-eeaae8b26add",
   "metadata": {},
   "source": [
    "10 exercise"
   ]
  },
  {
   "cell_type": "code",
   "execution_count": 49,
   "id": "73801d57-e99c-4d0d-8c55-8dba149c1dac",
   "metadata": {},
   "outputs": [
    {
     "name": "stdout",
     "output_type": "stream",
     "text": [
      "this_string_is_converted\n"
     ]
    }
   ],
   "source": [
    "import re\n",
    "txt = (\"ThisStringIsConverted\")\n",
    "x = re.sub(r'([a-z])([A-Z])', r'\\1_\\2', txt).lower()\n",
    "print(x)"
   ]
  },
  {
   "cell_type": "code",
   "execution_count": null,
   "id": "1a55687a-855f-4029-b56f-431caf6c84a0",
   "metadata": {},
   "outputs": [],
   "source": []
  }
 ],
 "metadata": {
  "kernelspec": {
   "display_name": "Python [conda env:base] *",
   "language": "python",
   "name": "conda-base-py"
  },
  "language_info": {
   "codemirror_mode": {
    "name": "ipython",
    "version": 3
   },
   "file_extension": ".py",
   "mimetype": "text/x-python",
   "name": "python",
   "nbconvert_exporter": "python",
   "pygments_lexer": "ipython3",
   "version": "3.12.7"
  }
 },
 "nbformat": 4,
 "nbformat_minor": 5
}
